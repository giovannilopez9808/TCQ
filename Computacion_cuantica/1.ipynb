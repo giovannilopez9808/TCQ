{
 "cells": [
  {
   "cell_type": "markdown",
   "metadata": {},
   "source": [
    "$$\n",
    "\\left|\\psi \\right\\rangle = \\alpha \\left|0 \\right\\rangle +\\beta \\left|1 \\right\\rangle\n",
    "$$\n",
    "$$\n",
    "|\\alpha|^2 +|\\beta|^2=1\n",
    "$$\n",
    "$$\n",
    "\\left(\\begin{matrix} \\alpha \\\\ \\beta \\end{matrix}\\right)\n",
    "$$"
   ]
  },
  {
   "cell_type": "code",
   "execution_count": 1,
   "metadata": {},
   "outputs": [],
   "source": [
    "from qiskit import QuantumCircuit, ClassicalRegister, QuantumRegister\n",
    "from qiskit import execute\n",
    "from qiskit import BasicAer\n",
    "from qiskit.tools.visualization import plot_histogram, plot_bloch_multivector\n",
    "backend=BasicAer.get_backend(\"qasm_simulator\")"
   ]
  },
  {
   "cell_type": "code",
   "execution_count": null,
   "metadata": {},
   "outputs": [],
   "source": [
    "from qiskit import QuantumCircuit\n",
    "\n",
    "import numpy as np\n",
    "n_qubit=2\n",
    "qubit=QuantumCircuit(n_qubit)\n",
    "qubit.h(np.arange(n_qubit))\n",
    "qubit.draw()"
   ]
  },
  {
   "cell_type": "markdown",
   "metadata": {},
   "source": [
    "$$\n",
    "X=\\left(\\begin{matrix}\n",
    "0&1 \\\\\n",
    "1& 0\\\\\\end{matrix}\\right)\n",
    "$$"
   ]
  },
  {
   "cell_type": "markdown",
   "metadata": {},
   "source": [
    "$$ X\\left|0 \\right\\rangle = \\left|1 \\right\\rangle\n",
    "\\\\\n",
    "X\\left|1 \\right\\rangle = \\left|0\\right\\rangle\n",
    "$$"
   ]
  },
  {
   "cell_type": "code",
   "execution_count": null,
   "metadata": {},
   "outputs": [],
   "source": [
    "n_qubit=2\n",
    "qubit=QuantumCircuit(n_qubit)\n",
    "qubit.x(np.arange(n_qubit))\n",
    "qubit.draw()"
   ]
  },
  {
   "cell_type": "markdown",
   "metadata": {},
   "source": [
    "$$\n",
    "Y=\\left(\\begin{matrix}\n",
    "0&-i \\\\\n",
    "i& 0\\\\\\end{matrix}\\right)\n",
    "$$\n",
    "$$ Y\\left|0 \\right\\rangle = i\\left|1 \\right\\rangle\n",
    "\\\\\n",
    "Y\\left|1 \\right\\rangle = -i\\left|0\\right\\rangle\n",
    "$$"
   ]
  },
  {
   "cell_type": "code",
   "execution_count": null,
   "metadata": {},
   "outputs": [],
   "source": [
    "n_qubit=2\n",
    "qubit=QuantumCircuit(n_qubit)\n",
    "qubit.y(np.arange(n_qubit))\n",
    "qubit.draw()"
   ]
  },
  {
   "cell_type": "markdown",
   "metadata": {},
   "source": [
    "$$\n",
    "Z=\\left(\\begin{matrix}\n",
    "1&0 \\\\\n",
    "0& -1\\\\\\end{matrix}\\right)\n",
    "$$\n",
    "$$ Z\\left|0 \\right\\rangle = \\left|0 \\right\\rangle\n",
    "\\\\\n",
    "Z\\left|1 \\right\\rangle = -\\left|1\\right\\rangle\n",
    "$$\n",
    "$$\n",
    "A\\nu = \\lambda \\nu\n",
    "$$"
   ]
  },
  {
   "cell_type": "code",
   "execution_count": null,
   "metadata": {},
   "outputs": [],
   "source": [
    "n_qubit=2\n",
    "qubit=QuantumCircuit(n_qubit)\n",
    "qubit.z(np.arange(n_qubit))\n",
    "qubit.draw()"
   ]
  },
  {
   "cell_type": "code",
   "execution_count": 15,
   "metadata": {},
   "outputs": [
    {
     "data": {
      "image/png": "[encoded data removed]",
      "text/plain": [
       "<Figure size 504x360 with 1 Axes>"
      ]
     },
     "execution_count": 15,
     "metadata": {},
     "output_type": "execute_result"
    }
   ],
   "source": [
    "qr=QuantumRegister(1)\n",
    "cr=ClassicalRegister(1)\n",
    "circuit=QuantumCircuit(qr,cr)\n",
    "circuit.h(qr[0])\n",
    "circuit.measure(qr,cr)\n",
    "job=execute(circuit,backend,shots=1000)\n",
    "plot_histogram(job.result().get_counts(circuit))"
   ]
  },
  {
   "cell_type": "markdown",
   "metadata": {},
   "source": [
    "$$\n",
    "\\left|\\psi \\right\\rangle = \\left[\\begin{matrix}a_0 \\\\ a_1 \\end{matrix} \\right] \\qquad\n",
    "\\left|{\\psi}' \\right\\rangle = \\left[\\begin{matrix}b_0 \\\\ b_1 \\end{matrix} \\right]\n",
    "$$"
   ]
  },
  {
   "cell_type": "markdown",
   "metadata": {},
   "source": [
    "$$\n",
    "\\left|\\psi \\right\\rangle \\otimes\\left|{\\psi}' \\right\\rangle = \\left[\\begin{matrix}a_0b_0 \\\\ \n",
    "a_0b_1 \\\\ a_1b_0 \\\\a_1b_1 \\end{matrix} \\right]\n",
    "$$"
   ]
  },
  {
   "cell_type": "markdown",
   "metadata": {},
   "source": [
    "$$\n",
    "\\left| 00 \\right\\rangle \\qquad \\left| 01 \\right\\rangle \\qquad \\left| 10 \\right\\rangle \\qquad \\left| 11 \\right\\rangle \n",
    "$$"
   ]
  },
  {
   "cell_type": "markdown",
   "metadata": {},
   "source": [
    "$$\n",
    "\\left| 0 \\right\\rangle \\qquad \\left| 1 \\right\\rangle \\qquad \\left| 2 \\right\\rangle \\qquad \\left| 3 \\right\\rangle \n",
    "$$"
   ]
  },
  {
   "cell_type": "code",
   "execution_count": 18,
   "metadata": {},
   "outputs": [
    {
     "data": {
      "text/html": [
       "<pre style=\"word-wrap: normal;white-space: pre;background: #fff0;line-height: 1.1;font-family: &quot;Courier New&quot;,Courier,monospace\">       ┌───┐     ┌─┐   \n",
       "q40_0: ┤ H ├──■──┤M├───\n",
       "       └───┘┌─┴─┐└╥┘┌─┐\n",
       "q40_1: ─────┤ X ├─╫─┤M├\n",
       "            └───┘ ║ └╥┘\n",
       "c16: 2/═══════════╩══╩═\n",
       "                  0  1 </pre>"
      ],
      "text/plain": [
       "       ┌───┐     ┌─┐   \n",
       "q40_0: ┤ H ├──■──┤M├───\n",
       "       └───┘┌─┴─┐└╥┘┌─┐\n",
       "q40_1: ─────┤ X ├─╫─┤M├\n",
       "            └───┘ ║ └╥┘\n",
       "c16: 2/═══════════╩══╩═\n",
       "                  0  1 "
      ]
     },
     "execution_count": 18,
     "metadata": {},
     "output_type": "execute_result"
    }
   ],
   "source": [
    "qr=QuantumRegister(2)\n",
    "cr=ClassicalRegister(2)\n",
    "circuit=QuantumCircuit(qr,cr)\n",
    "circuit.h(qr[0])\n",
    "circuit.cx(qr[0],qr[1])\n",
    "circuit.measure(qr,cr)\n",
    "circuit.draw()"
   ]
  },
  {
   "cell_type": "code",
   "execution_count": 19,
   "metadata": {},
   "outputs": [
    {
     "data": {
      "image/png": "[encoded data removed]",
      "text/plain": [
       "<Figure size 504x360 with 1 Axes>"
      ]
     },
     "execution_count": 19,
     "metadata": {},
     "output_type": "execute_result"
    }
   ],
   "source": [
    "job=execute(circuit,backend,shots=10000)\n",
    "plot_histogram(job.result().get_counts(circuit))"
   ]
  },
  {
   "cell_type": "code",
   "execution_count": null,
   "metadata": {},
   "outputs": [],
   "source": []
  }
 ],
 "metadata": {
  "kernelspec": {
   "display_name": "Python 3",
   "language": "python",
   "name": "python3"
  },
  "language_info": {
   "codemirror_mode": {
    "name": "ipython",
    "version": 3
   },
   "file_extension": ".py",
   "mimetype": "text/x-python",
   "name": "python",
   "nbconvert_exporter": "python",
   "pygments_lexer": "ipython3",
   "version": "3.8.5"
  }
 },
 "nbformat": 4,
 "nbformat_minor": 4
}
