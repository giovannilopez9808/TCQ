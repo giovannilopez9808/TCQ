{
 "cells": [
  {
   "cell_type": "code",
   "execution_count": 1,
   "metadata": {},
   "outputs": [],
   "source": [
    "%matplotlib inline\n",
    "\n",
    "import numpy as np\n",
    "import matplotlib.pyplot as plt"
   ]
  },
  {
   "cell_type": "code",
   "execution_count": 2,
   "metadata": {},
   "outputs": [],
   "source": [
    "# Cuando pensamos en analizar datos muchas veces nos encontramos con la necesidad de caracterizar lo que esta \n",
    "# ocurriendo con la informacion, vemos como generar nuevas variables que contengan informacion casi podriamos decir\n",
    "# de contexto. Es asi como el numero de dimensiones, o sea las variables o features que tenemos disponibles crecen \n",
    "# rapidamente. Imaginemos que queremos analizar el comportamiento de un motor electrico, necesitaremos datos como\n",
    "# RPM, marca, caracteristicas tecnicas, consumo de electricidad, temperatura y asi podriamos seguir."
   ]
  },
  {
   "cell_type": "code",
   "execution_count": 3,
   "metadata": {},
   "outputs": [],
   "source": [
    "# El objetivo de PCA generalmente es reducir la cantidad de dimensiones disponibles del conjunto de datos\n",
    "# Porque no siempre mas dimensiones es mejor, en estadistica existe algo llamado la maldicion de la dimension o\n",
    "# efectos hughes (https://es.wikipedia.org/wiki/Maldici%C3%B3n_de_la_dimensi%C3%B3n)\n",
    "# Basicamente esta maldicion se traduce en que por cada dimension agregada nuestro requerimiento de datos crece\n",
    "# exponencialmente para obtener el mismo nivel estadistico del resultado."
   ]
  },
  {
   "cell_type": "code",
   "execution_count": 4,
   "metadata": {},
   "outputs": [],
   "source": [
    "# Especificamente cuando hablamos de aprendizaje automatico esta maldicion representa un serio problema para \n",
    "# resolver los problemas de optimizacion involucrados. O para K-means o K-vecinos, la distancia a los vecinos\n",
    "# mas proximos crece con cada aumento de dimension"
   ]
  },
  {
   "cell_type": "code",
   "execution_count": 5,
   "metadata": {},
   "outputs": [],
   "source": [
    "# PCA se enfoca en reducir la cantidad de dimensiones por medio de analizar las dimensions que no estan\n",
    "# completamente no correlacionadas. Lo que hace es darnos un nuevo conjunto de dimensiones, que es menor al \n",
    "# anterior pero que contiene una cantidad de informacion similar. Por ejemplo podriamos elegir quedarnos con\n",
    "# todas las dimensiones que expliquen el 80% de la varianza, o el 90% por proponer 2 numeros."
   ]
  },
  {
   "cell_type": "code",
   "execution_count": 6,
   "metadata": {},
   "outputs": [
    {
     "data": {
      "text/plain": [
       "(100, 2)"
      ]
     },
     "execution_count": 6,
     "metadata": {},
     "output_type": "execute_result"
    }
   ],
   "source": [
    "# Veamos un ejemplo, Creamos un conjunto de 2 dimensiones y agreguemos correlaciones entre ambas dimensions\n",
    "np.random.seed(123)\n",
    "x = 5*np.random.rand(100)\n",
    "y = 2*x + 1 + np.random.randn(100)\n",
    "\n",
    "x = x.reshape(100, 1)\n",
    "y = y.reshape(100, 1)\n",
    "\n",
    "X = np.hstack([x, y])\n",
    "X.shape"
   ]
  },
  {
   "cell_type": "code",
   "execution_count": 8,
   "metadata": {},
   "outputs": [
    {
     "data": {
      "image/png": "[encoded data removed]",
      "text/plain": [
       "<Figure size 432x288 with 1 Axes>"
      ]
     },
     "metadata": {
      "needs_background": "light"
     },
     "output_type": "display_data"
    }
   ],
   "source": [
    "plt.plot(X[:,0], X[:,1], '.')\n",
    "plt.show()"
   ]
  },
  {
   "cell_type": "code",
   "execution_count": 9,
   "metadata": {},
   "outputs": [],
   "source": [
    "# Datos altamente correlacionados implican que las dimensiones son redundantes, o sea es posible predecir una\n",
    "# variable a partir de las otras sin perder mucha informacion\n",
    "# Lo primero que haremos es centrar los datos alrededor del 0"
   ]
  },
  {
   "cell_type": "code",
   "execution_count": 17,
   "metadata": {},
   "outputs": [],
   "source": [
    "def centrarData(X):\n",
    "    X = X.copy()\n",
    "    X -= np.mean(X, axis = 0)\n",
    "    return X"
   ]
  },
  {
   "cell_type": "code",
   "execution_count": 18,
   "metadata": {},
   "outputs": [
    {
     "data": {
      "image/png": "[encoded data removed]",
      "text/plain": [
       "<Figure size 432x288 with 1 Axes>"
      ]
     },
     "metadata": {
      "needs_background": "light"
     },
     "output_type": "display_data"
    }
   ],
   "source": [
    "X_centrado = centrarData(X)\n",
    "plt.plot(X_centrado[:,0], X_centrado[:,1], '.')\n",
    "plt.show()"
   ]
  },
  {
   "cell_type": "code",
   "execution_count": 19,
   "metadata": {},
   "outputs": [],
   "source": [
    "# Ahora podemos buscar las componentes principales, estas componentes corresponden a los valores que toma d\n",
    "# para maximizar la funcion d* = arg max Tr(d.T X.T X d) con d.T d = 1\n",
    "# Para encontrar d calculamos los autovectores y autovalores de X.T X"
   ]
  },
  {
   "cell_type": "code",
   "execution_count": null,
   "metadata": {},
   "outputs": [],
   "source": [
    "# Por que pedimos que d.T d = 1\n",
    "# Estamos pediendo que el vector solucion tenga norma 1, esto esta relacionado con el problema de maximizacion, sin\n",
    "# esta limitacion d podria crecer hasta el infinito sin ningun sentido."
   ]
  },
  {
   "cell_type": "code",
   "execution_count": 20,
   "metadata": {},
   "outputs": [
    {
     "name": "stdout",
     "output_type": "stream",
     "text": [
      "[[-0.91116273 -0.41204669]\n",
      " [ 0.41204669 -0.91116273]]\n"
     ]
    }
   ],
   "source": [
    "autovalores, autovectores = np.linalg.eig(X_centrado.T.dot(X_centrado))\n",
    "print(autovectores)"
   ]
  },
  {
   "cell_type": "code",
   "execution_count": 21,
   "metadata": {},
   "outputs": [],
   "source": [
    "# Estos son los vectores que maximizan nuestra funcion.Cada columna esta asociada con un autovalor. El vector \n",
    "# asociado con el autovalor mas grande nos dice la direccion asociada con la varianza mas grande en nuestra info"
   ]
  },
  {
   "cell_type": "code",
   "execution_count": 23,
   "metadata": {},
   "outputs": [],
   "source": [
    "def plotVectors(vecs, cols, alpha=1):\n",
    "    \"\"\"\n",
    "    Plot set of vectors.\n",
    "\n",
    "    Parameters\n",
    "    ----------\n",
    "    vecs : array-like\n",
    "        Coordinates of the vectors to plot. Each vectors is in an array. For\n",
    "        instance: [[1, 3], [2, 2]] can be used to plot 2 vectors.\n",
    "    cols : array-like\n",
    "        Colors of the vectors. For instance: ['red', 'blue'] will display the\n",
    "        first vector in red and the second in blue.\n",
    "    alpha : float\n",
    "        Opacity of vectors\n",
    "\n",
    "    Returns:\n",
    "\n",
    "    fig : instance of matplotlib.figure.Figure\n",
    "        The figure of the vectors\n",
    "    \"\"\"\n",
    "    plt.axvline(x=0, color='#A9A9A9', zorder=0)\n",
    "    plt.axhline(y=0, color='#A9A9A9', zorder=0)\n",
    "\n",
    "    for i in range(len(vecs)):\n",
    "        if (isinstance(alpha, list)):\n",
    "            alpha_i = alpha[i]\n",
    "        else:\n",
    "            alpha_i = alpha\n",
    "        x = np.concatenate([[0,0],vecs[i]])\n",
    "        plt.quiver([x[0]],\n",
    "                   [x[1]],\n",
    "                   [x[2]],\n",
    "                   [x[3]],\n",
    "                   angles='xy', scale_units='xy', scale=1, color=cols[i],\n",
    "                  alpha=alpha_i)"
   ]
  },
  {
   "cell_type": "code",
   "execution_count": 24,
   "metadata": {},
   "outputs": [
    {
     "data": {
      "image/png": "[encoded data removed]",
      "text/plain": [
       "<Figure size 432x288 with 1 Axes>"
      ]
     },
     "metadata": {
      "needs_background": "light"
     },
     "output_type": "display_data"
    }
   ],
   "source": [
    "orange = '#FF9A13'\n",
    "blue = '#1190FF'\n",
    "plotVectors(autovectores.T, [orange, blue])\n",
    "plt.plot(X_centrado[:,0], X_centrado[:,1], '.')\n",
    "plt.xlim(-3, 3)\n",
    "plt.ylim(-3, 3)\n",
    "plt.show()"
   ]
  },
  {
   "cell_type": "code",
   "execution_count": 25,
   "metadata": {},
   "outputs": [],
   "source": [
    "# El vector azul indica la direccion de maxima varianza en nuestros datos. Si proyectaramos todos los puntos sobre\n",
    "# ese eje y nos quedaramos solo con esa informacion obtendriamos la mayor cantidad posible."
   ]
  },
  {
   "cell_type": "code",
   "execution_count": 26,
   "metadata": {},
   "outputs": [
    {
     "name": "stdout",
     "output_type": "stream",
     "text": [
      "[ 18.04730409 798.35242844]\n"
     ]
    }
   ],
   "source": [
    "print(autovalores)"
   ]
  },
  {
   "cell_type": "code",
   "execution_count": 27,
   "metadata": {},
   "outputs": [],
   "source": [
    "# Efectivamente vemos que el segundo autovalor corresponde a la direccion del vector azul"
   ]
  },
  {
   "cell_type": "code",
   "execution_count": 29,
   "metadata": {},
   "outputs": [
    {
     "data": {
      "image/png": "[encoded data removed]",
      "text/plain": [
       "<Figure size 432x288 with 1 Axes>"
      ]
     },
     "metadata": {
      "needs_background": "light"
     },
     "output_type": "display_data"
    }
   ],
   "source": [
    "X_new = autovectores.T.dot(X_centrado.T)\n",
    "\n",
    "plt.plot(autovectores.T.dot(X_centrado.T)[0, :], autovectores.T.dot(X_centrado.T)[1, :], '*')\n",
    "plt.xlim(-6, 6)\n",
    "plt.ylim(-6, 6)\n",
    "plt.show()"
   ]
  },
  {
   "cell_type": "code",
   "execution_count": null,
   "metadata": {},
   "outputs": [],
   "source": []
  }
 ],
 "metadata": {
  "kernelspec": {
   "display_name": "Python 3",
   "language": "python",
   "name": "python3"
  },
  "language_info": {
   "codemirror_mode": {
    "name": "ipython",
    "version": 3
   },
   "file_extension": ".py",
   "mimetype": "text/x-python",
   "name": "python",
   "nbconvert_exporter": "python",
   "pygments_lexer": "ipython3",
   "version": "3.7.4"
  }
 },
 "nbformat": 4,
 "nbformat_minor": 2
}
