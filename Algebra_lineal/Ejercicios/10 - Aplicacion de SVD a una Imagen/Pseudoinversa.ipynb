{
 "cells": [
  {
   "cell_type": "code",
   "execution_count": 14,
   "metadata": {},
   "outputs": [],
   "source": [
    "%matplotlib inline\n",
    "\n",
    "import numpy as np\n",
    "import matplotlib.pyplot as plt\n",
    "import seaborn as sns\n",
    "np.set_printoptions(suppress=True) # pedimos a numpy que no muestre los numeros pequenos de punto flotante"
   ]
  },
  {
   "cell_type": "code",
   "execution_count": 15,
   "metadata": {},
   "outputs": [],
   "source": [
    "# La Pseudoinversa de Moore-Penrose es una aplicacion directa de SVD, que puede ser utilizada para resolver un \n",
    "# sistema de ecuaciones, ese que ya viste en clases anteriores. Recordemos que un sistema de ecuaciones lineales\n",
    "# puede ser expresado en forma matricial"
   ]
  },
  {
   "cell_type": "code",
   "execution_count": 16,
   "metadata": {},
   "outputs": [],
   "source": [
    "# Pero en el caso que la matriz no sea cuadrada, o que el conjunto de ecuaciones tenga 0 o muchas soluciones, o sea\n",
    "# que la matriz no tenga inversa y por lo tanto no podamos resolver el sitema de ecuaciones, es aqui donde el uso\n",
    "# de la Pseudoinversa puede ayudarnos\n",
    "\n",
    "# nuestro sistema es A x = b , si existe la inversa podemos hacer x = A_inv b\n",
    "\n",
    "# Pero si no existe podemos tratar de encontrar otra matriz, llamemosla A_pse tal que A * A_pse se aproxime a la Id\n",
    "\n",
    "# Como hablamos de aproximarnos, entonces pedimos que A_pse minimice la norma (A * A_pse - Id)\n",
    "\n",
    "# Una posible pseudo inversa es A_pse = V D_pse U.T donde V,D,U son los obtenidos al calcular la descomposicion SVD"
   ]
  },
  {
   "cell_type": "code",
   "execution_count": 17,
   "metadata": {},
   "outputs": [
    {
     "name": "stdout",
     "output_type": "stream",
     "text": [
      "[[ 0.16666667 -0.10606061  0.03030303]\n",
      " [-0.16666667  0.28787879  0.06060606]]\n"
     ]
    }
   ],
   "source": [
    "# Veamos un ejemplo, escribamos A una matriz no cuadrada y por lo tanto sin inversa\n",
    "\n",
    "A = np.array([[7, 2], [3, 4], [5, 3]])\n",
    "U, D, V = np.linalg.svd(A)\n",
    "\n",
    "D_pse = np.zeros((A.shape[0], A.shape[1])).T\n",
    "D_pse[:D.shape[0], :D.shape[0]] = np.linalg.inv(np.diag(D))\n",
    "\n",
    "A_pse = V.T.dot(D_pse).dot(U.T)\n",
    "print(A_pse)"
   ]
  },
  {
   "cell_type": "code",
   "execution_count": 18,
   "metadata": {},
   "outputs": [
    {
     "name": "stdout",
     "output_type": "stream",
     "text": [
      "[[ 0.16666667 -0.10606061  0.03030303]\n",
      " [-0.16666667  0.28787879  0.06060606]]\n"
     ]
    }
   ],
   "source": [
    "# Validemos con la funcion de numpy pinv() que la pseudoinversa calculada es correcta\n",
    "print(np.linalg.pinv(A))"
   ]
  },
  {
   "cell_type": "code",
   "execution_count": 20,
   "metadata": {},
   "outputs": [
    {
     "name": "stdout",
     "output_type": "stream",
     "text": [
      "[[1. 0.]\n",
      " [0. 1.]]\n"
     ]
    }
   ],
   "source": [
    "# Veamos si es una \"inversa\"\n",
    "print(A_pse.dot(A))\n",
    "\n",
    "# Aqui vale señalar que el resultado no es este exactamente, los numeros estan redondeados a la precision de float"
   ]
  },
  {
   "cell_type": "code",
   "execution_count": 23,
   "metadata": {},
   "outputs": [],
   "source": [
    "# si descativamos la opcion de formato automatico\n",
    "np.set_printoptions(suppress=False) "
   ]
  },
  {
   "cell_type": "code",
   "execution_count": 24,
   "metadata": {},
   "outputs": [
    {
     "name": "stdout",
     "output_type": "stream",
     "text": [
      "[[1.00000000e+00 2.63677968e-16]\n",
      " [5.55111512e-17 1.00000000e+00]]\n"
     ]
    }
   ],
   "source": [
    "print(A_pse.dot(A))"
   ]
  },
  {
   "cell_type": "code",
   "execution_count": 25,
   "metadata": {},
   "outputs": [
    {
     "name": "stdout",
     "output_type": "stream",
     "text": [
      "[[ 0.83333333 -0.16666667  0.33333333]\n",
      " [-0.16666667  0.83333333  0.33333333]\n",
      " [ 0.33333333  0.33333333  0.33333333]]\n"
     ]
    }
   ],
   "source": [
    "# Observemos una diferencia con las inversas reales, las que si existen\n",
    "# Sabemos que A * A_inv = A_inv * A = Id\n",
    "# Con la pseudoinversa eso no ocurre, entones A_pse * A != A * A_pse\n",
    "\n",
    "print(A.dot(A_pse))"
   ]
  },
  {
   "cell_type": "code",
   "execution_count": 26,
   "metadata": {},
   "outputs": [
    {
     "name": "stdout",
     "output_type": "stream",
     "text": [
      "[[ 0.16666667 -0.10606061  0.03030303]\n",
      " [-0.16666667  0.28787879  0.06060606]]\n"
     ]
    }
   ],
   "source": [
    "# Te mostre que una posible pseudoinversa es la obtenida por SVD, pero existen otras\n",
    "# Veamos otra forma (A.T A)_inv * A.T\n",
    "\n",
    "A_pse2 = np.linalg.inv(A.T.dot(A)).dot(A.T)\n",
    "print(A_pse2)\n",
    "\n",
    "# En este caso el resultado es el mismo"
   ]
  },
  {
   "cell_type": "code",
   "execution_count": null,
   "metadata": {},
   "outputs": [],
   "source": []
  }
 ],
 "metadata": {
  "kernelspec": {
   "display_name": "Python 3",
   "language": "python",
   "name": "python3"
  },
  "language_info": {
   "codemirror_mode": {
    "name": "ipython",
    "version": 3
   },
   "file_extension": ".py",
   "mimetype": "text/x-python",
   "name": "python",
   "nbconvert_exporter": "python",
   "pygments_lexer": "ipython3",
   "version": "3.7.4"
  }
 },
 "nbformat": 4,
 "nbformat_minor": 2
}
